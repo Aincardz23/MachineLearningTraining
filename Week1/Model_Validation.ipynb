{
  "nbformat": 4,
  "nbformat_minor": 0,
  "metadata": {
    "colab": {
      "name": "Model Validation.ipynb",
      "provenance": [],
      "authorship_tag": "ABX9TyPafklCTAoFNFrk0B/bAExM",
      "include_colab_link": true
    },
    "kernelspec": {
      "name": "python3",
      "display_name": "Python 3"
    },
    "language_info": {
      "name": "python"
    }
  },
  "cells": [
    {
      "cell_type": "markdown",
      "metadata": {
        "id": "view-in-github",
        "colab_type": "text"
      },
      "source": [
        "<a href=\"https://colab.research.google.com/github/Aincardz23/MachineLearningTraining/blob/main/Week1/Model_Validation.ipynb\" target=\"_parent\"><img src=\"https://colab.research.google.com/assets/colab-badge.svg\" alt=\"Open In Colab\"/></a>"
      ]
    },
    {
      "cell_type": "markdown",
      "metadata": {
        "id": "b5jIgbUdtuOD"
      },
      "source": [
        "Model Validation"
      ]
    },
    {
      "cell_type": "code",
      "metadata": {
        "id": "rv43sMJNT-vU"
      },
      "source": [
        "import pandas as pd\n",
        "from sklearn.tree import DecisionTreeRegressor\n",
        "\n",
        "# Path of the file to read\n",
        "iowa_file_path = '/content/drive/MyDrive/Colab Notebooks/home-data-for-ml-course/train.csv'\n",
        "\n",
        "home_data = pd.read_csv(iowa_file_path)\n",
        "y = home_data.SalePrice\n",
        "feature_columns = ['LotArea', 'YearBuilt', '1stFlrSF', '2ndFlrSF', 'FullBath', 'BedroomAbvGr', 'TotRmsAbvGrd']\n",
        "X = home_data[feature_columns]\n",
        "\n",
        "# Specify Model\n",
        "iowa_model = DecisionTreeRegressor()\n",
        "# Fit Model\n",
        "iowa_model.fit(X, y)\n",
        "\n",
        "print(\"First in-sample predictions:\", iowa_model.predict(X.head()))\n",
        "print(\"Actual target values for those homes:\", y.head().tolist())"
      ],
      "execution_count": null,
      "outputs": []
    },
    {
      "cell_type": "markdown",
      "metadata": {
        "id": "IT1iwjHvuOQu"
      },
      "source": [
        "Step 1: Split Your Data Use the train_test_split function to split up your data.\n",
        "\n",
        "Give it the argument random_state=1 so the check functions know what to expect when verifying your code.\n",
        "\n",
        "Recall, your features are loaded in the DataFrame X and your target is loaded in y."
      ]
    },
    {
      "cell_type": "code",
      "metadata": {
        "id": "qBP3AHrot2DK"
      },
      "source": [
        "from sklearn.model_selection import train_test_split\n",
        "train_X, val_X, train_y, val_y = train_test_split(X, y, random_state = 0)"
      ],
      "execution_count": null,
      "outputs": []
    },
    {
      "cell_type": "markdown",
      "metadata": {
        "id": "0KsM6MvsuRRN"
      },
      "source": [
        "Step 2: Specify and Fit the Model Create a DecisionTreeRegressor model and fit it to the relevant data. Set random_state to 1 again when creating the model."
      ]
    },
    {
      "cell_type": "code",
      "metadata": {
        "id": "Er-MSuTbt4Rd"
      },
      "source": [
        "# You imported DecisionTreeRegressor in your last exercise\n",
        "# and that code has been copied to the setup code above. So, no need to\n",
        "# import it again\n",
        "\n",
        "# Specify the model\n",
        "iowa_model = DecisionTreeRegressor(random_state=1)\n",
        "\n",
        "# Fit iowa_model with the training data."
      ],
      "execution_count": null,
      "outputs": []
    },
    {
      "cell_type": "markdown",
      "metadata": {
        "id": "AXDA-qcNuT6K"
      },
      "source": [
        "Step 3: Make Predictions with Validation data"
      ]
    },
    {
      "cell_type": "code",
      "metadata": {
        "id": "jzEDDpu2t7Ke"
      },
      "source": [
        "# Predict with all validation observations\n",
        "val_predictions = iowa_model.predict(val_X)"
      ],
      "execution_count": null,
      "outputs": []
    },
    {
      "cell_type": "markdown",
      "metadata": {
        "id": "upaMIZTMuXMm"
      },
      "source": [
        "Step 4: Calculate the Mean Absolute Error in Validation Data"
      ]
    },
    {
      "cell_type": "code",
      "metadata": {
        "id": "ysHEDDk7t8u0"
      },
      "source": [
        "# print the top few validation predictions\n",
        "print(iowa_model.predict(val_X.head()))\n",
        "# print the top few actual prices from validation data\n",
        "print(y.head().tolist())"
      ],
      "execution_count": null,
      "outputs": []
    },
    {
      "cell_type": "code",
      "metadata": {
        "id": "FiiMiT0et-DK"
      },
      "source": [
        "from sklearn.metrics import mean_absolute_error\n",
        "val_mae = mean_absolute_error(val_y, val_predictions)\n",
        "\n",
        "# uncomment following line to see the validation_mae\n",
        "print(val_mae)"
      ],
      "execution_count": null,
      "outputs": []
    }
  ]
}