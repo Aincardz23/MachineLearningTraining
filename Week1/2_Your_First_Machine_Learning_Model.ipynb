{
  "nbformat": 4,
  "nbformat_minor": 0,
  "metadata": {
    "colab": {
      "name": "2 Your First Machine Learning Model.ipynb",
      "provenance": [],
      "collapsed_sections": [],
      "authorship_tag": "ABX9TyMX+ylNM5eKvWvS44iERAim",
      "include_colab_link": true
    },
    "kernelspec": {
      "name": "python3",
      "display_name": "Python 3"
    },
    "language_info": {
      "name": "python"
    }
  },
  "cells": [
    {
      "cell_type": "markdown",
      "metadata": {
        "id": "view-in-github",
        "colab_type": "text"
      },
      "source": [
        "<a href=\"https://colab.research.google.com/github/Aincardz23/MachineLearningTraining/blob/main/Week1/2_Your_First_Machine_Learning_Model.ipynb\" target=\"_parent\"><img src=\"https://colab.research.google.com/assets/colab-badge.svg\" alt=\"Open In Colab\"/></a>"
      ]
    },
    {
      "cell_type": "markdown",
      "metadata": {
        "id": "8OdMdSeWx-km"
      },
      "source": [
        "Basic Data Exploration"
      ]
    },
    {
      "cell_type": "code",
      "metadata": {
        "id": "Q5qHnLnSx7iq"
      },
      "source": [
        "import pandas as pd\n",
        "# save filepath to variable for easier access\n",
        "melbourne_file_path = '/content/drive/MyDrive/Colab Notebooks/melb_data.csv'\n",
        "# read the data and store data in DataFrame titled melbourne_data\n",
        "melbourne_data = pd.read_csv(melbourne_file_path) \n",
        "# print a summary of the data in Melbourne data\n",
        "melbourne_data.describe()"
      ],
      "execution_count": null,
      "outputs": []
    },
    {
      "cell_type": "markdown",
      "metadata": {
        "id": "epxCWOPcyCwJ"
      },
      "source": [
        "Exercise: Your First Machine Learning Model"
      ]
    },
    {
      "cell_type": "code",
      "metadata": {
        "id": "EeOC3M2HyEF_"
      },
      "source": [
        "# Code you have previously used to load data\n",
        "import pandas as pd\n",
        "\n",
        "# Path of the file to read\n",
        "iowa_file_path = '/content/drive/MyDrive/Colab Notebooks/home-data-for-ml-course/train.csv'\n",
        "\n",
        "home_data = pd.read_csv(iowa_file_path)\n",
        "home_data.columns"
      ],
      "execution_count": null,
      "outputs": []
    },
    {
      "cell_type": "markdown",
      "metadata": {
        "id": "-7nUAphjyFb3"
      },
      "source": [
        "1.1 Specify Prediction Target\n",
        "\n",
        "You can pull out a variable with dot-notation. This single column is stored in a Series, which is broadly like a DataFrame with only a single column of data.\n",
        "\n",
        "We'll use the dot notation to select the column we want to predict, which is called the prediction target. By convention, the prediction target is called y. So the code we need to save the house prices in the Melbourne data is"
      ]
    },
    {
      "cell_type": "code",
      "metadata": {
        "id": "p5IBhJ-uyI3t"
      },
      "source": [
        "y = home_data.SalePrice"
      ],
      "execution_count": null,
      "outputs": []
    },
    {
      "cell_type": "markdown",
      "metadata": {
        "id": "I_PLYGOVyKVH"
      },
      "source": [
        "1.2 Create X"
      ]
    },
    {
      "cell_type": "code",
      "metadata": {
        "id": "AQzMmT4vyNJc"
      },
      "source": [
        "# Create the list of features below\n",
        "feature_names = ['LotArea','YearBuilt','1stFlrSF','2ndFlrSF','FullBath','BedroomAbvGr','TotRmsAbvGrd']\n",
        "\n",
        "# Select data corresponding to features in feature_names\n",
        "X = home_data[feature_names]"
      ],
      "execution_count": null,
      "outputs": []
    },
    {
      "cell_type": "markdown",
      "metadata": {
        "id": "QxzK4VGFyOhQ"
      },
      "source": [
        "1.3 Specify and Fit Model"
      ]
    },
    {
      "cell_type": "code",
      "metadata": {
        "id": "4f3FZJf3yPaw"
      },
      "source": [
        "from sklearn.tree import DecisionTreeRegressor\n",
        "#specify the model. \n",
        "#For model reproducibility, set a numeric value for random_state when specifying the model\n",
        "iowa_model = DecisionTreeRegressor(random_state=1)\n",
        "\n",
        "# Fit the model\n",
        "iowa_model.fit(X, y)"
      ],
      "execution_count": null,
      "outputs": []
    },
    {
      "cell_type": "markdown",
      "metadata": {
        "id": "ZNY0BX8ayXdM"
      },
      "source": [
        "1.4 Make Predictions"
      ]
    },
    {
      "cell_type": "code",
      "metadata": {
        "id": "H3iBZyVqyUmO"
      },
      "source": [
        "predictions = iowa_model.predict(X)\n",
        "print(predictions)"
      ],
      "execution_count": null,
      "outputs": []
    }
  ]
}