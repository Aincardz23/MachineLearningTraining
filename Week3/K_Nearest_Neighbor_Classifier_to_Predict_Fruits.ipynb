{
  "nbformat": 4,
  "nbformat_minor": 0,
  "metadata": {
    "colab": {
      "name": "K Nearest Neighbor Classifier to Predict Fruits.ipynb",
      "provenance": [],
      "collapsed_sections": [],
      "authorship_tag": "ABX9TyN4tYIRu3rDVgGNFly44tmb"
    },
    "kernelspec": {
      "name": "python3",
      "display_name": "Python 3"
    },
    "language_info": {
      "name": "python"
    }
  },
  "cells": [
    {
      "cell_type": "code",
      "metadata": {
        "id": "Yy765dRZ33ZY"
      },
      "source": [
        "from google.colab import drive\n",
        "drive.mount('/content/drive')"
      ],
      "execution_count": null,
      "outputs": []
    },
    {
      "cell_type": "code",
      "metadata": {
        "id": "leIqK0PA35Rd"
      },
      "source": [
        "import numpy as np \n",
        "import pandas as pd \n",
        "import matplotlib.pyplot as plt"
      ],
      "execution_count": null,
      "outputs": []
    },
    {
      "cell_type": "markdown",
      "metadata": {
        "id": "eQCkuH6y3-Pf"
      },
      "source": [
        "**Dataset**"
      ]
    },
    {
      "cell_type": "code",
      "metadata": {
        "id": "SlzRODRm39Np"
      },
      "source": [
        "fruits=pd.read_table('/content/drive/MyDrive/Colab/Week 3 K Nearest Neighbor Classifier to predict fruits /fruit_data_with_colors.txt')"
      ],
      "execution_count": null,
      "outputs": []
    },
    {
      "cell_type": "markdown",
      "metadata": {
        "id": "e7IIPLUn4CpL"
      },
      "source": [
        "**5 Baris dari Dataset**"
      ]
    },
    {
      "cell_type": "code",
      "metadata": {
        "id": "isHHMtUq4F7g"
      },
      "source": [
        "fruits.head()"
      ],
      "execution_count": null,
      "outputs": []
    },
    {
      "cell_type": "markdown",
      "metadata": {
        "id": "ifFJEEn44Ilk"
      },
      "source": [
        "**Membuat mapping dari nilai label nama buah agar mudah di interpretasi**"
      ]
    },
    {
      "cell_type": "code",
      "metadata": {
        "id": "tYJlmwKS4KgP"
      },
      "source": [
        "predct = dict(zip(fruits.fruit_label.unique(), fruits.fruit_name.unique()))   \n",
        "predct"
      ],
      "execution_count": null,
      "outputs": []
    },
    {
      "cell_type": "markdown",
      "metadata": {
        "id": "l1JnCr5S4M9z"
      },
      "source": [
        "**Check banyaknya nama buah yang unik pada dataset**"
      ]
    },
    {
      "cell_type": "code",
      "metadata": {
        "id": "-twFRpow4UqB"
      },
      "source": [
        "fruits['fruit_name'].value_counts()"
      ],
      "execution_count": null,
      "outputs": []
    },
    {
      "cell_type": "markdown",
      "metadata": {
        "id": "efe984hu4WgC"
      },
      "source": [
        "**Menyimpan data-data yang unik pada 4 dataframe yang berbeda**"
      ]
    },
    {
      "cell_type": "code",
      "metadata": {
        "id": "BuNj0kRl4Zh4"
      },
      "source": [
        "apple_data=fruits[fruits['fruit_name']=='apple']\n",
        "orange_data=fruits[fruits['fruit_name']=='orange']\n",
        "lemon_data=fruits[fruits['fruit_name']=='lemon']\n",
        "mandarin_data=fruits[fruits['fruit_name']=='mandarin']"
      ],
      "execution_count": null,
      "outputs": []
    },
    {
      "cell_type": "code",
      "metadata": {
        "id": "hSbpKAy84aIq"
      },
      "source": [
        "apple_data.head()"
      ],
      "execution_count": null,
      "outputs": []
    },
    {
      "cell_type": "code",
      "metadata": {
        "id": "JpW5lFnJ4cTs"
      },
      "source": [
        "mandarin_data.head()"
      ],
      "execution_count": null,
      "outputs": []
    },
    {
      "cell_type": "code",
      "metadata": {
        "id": "rYzuMsvV4dQX"
      },
      "source": [
        "orange_data.head()"
      ],
      "execution_count": null,
      "outputs": []
    },
    {
      "cell_type": "code",
      "metadata": {
        "id": "t7r-v9Al4ehD"
      },
      "source": [
        "lemon_data.head()"
      ],
      "execution_count": null,
      "outputs": []
    },
    {
      "cell_type": "code",
      "metadata": {
        "id": "IEKd7sg54ftB"
      },
      "source": [
        "plt.scatter(fruits['width'],fruits['height'])"
      ],
      "execution_count": null,
      "outputs": []
    },
    {
      "cell_type": "code",
      "metadata": {
        "id": "fBbkCHu74hK6"
      },
      "source": [
        "plt.scatter(fruits['mass'],fruits['color_score'])"
      ],
      "execution_count": null,
      "outputs": []
    },
    {
      "cell_type": "code",
      "metadata": {
        "id": "c7gihamC4ioj"
      },
      "source": [
        "plt.plot(fruits['height'],label='Height')\n",
        "plt.plot(fruits['width'],label='Width')\n",
        "plt.legend()"
      ],
      "execution_count": null,
      "outputs": []
    },
    {
      "cell_type": "code",
      "metadata": {
        "id": "nTFXUsR-4kSo"
      },
      "source": [
        "from sklearn.model_selection import train_test_split\n",
        "from sklearn.neighbors import KNeighborsClassifier"
      ],
      "execution_count": null,
      "outputs": []
    },
    {
      "cell_type": "code",
      "metadata": {
        "id": "kZ2jyKVX4lWF"
      },
      "source": [
        "X=fruits[['mass','width','height']]\n",
        "Y=fruits['fruit_label']\n",
        "X_train,X_test,y_train,y_test=train_test_split(X,Y,random_state=0)"
      ],
      "execution_count": null,
      "outputs": []
    },
    {
      "cell_type": "code",
      "metadata": {
        "id": "2d3j0O-54mWX"
      },
      "source": [
        "X_train.describe()"
      ],
      "execution_count": null,
      "outputs": []
    },
    {
      "cell_type": "code",
      "metadata": {
        "id": "Ic8-ccNz4nha"
      },
      "source": [
        "X_test.describe()"
      ],
      "execution_count": null,
      "outputs": []
    },
    {
      "cell_type": "markdown",
      "metadata": {
        "id": "IJbHeE1m4ovi"
      },
      "source": [
        "**Membuat sebuah prediksi dengan KNN**"
      ]
    },
    {
      "cell_type": "code",
      "metadata": {
        "id": "TkxUbv1I4sE8"
      },
      "source": [
        "knn=KNeighborsClassifier()"
      ],
      "execution_count": null,
      "outputs": []
    },
    {
      "cell_type": "code",
      "metadata": {
        "id": "8XE5ZfLI4tlR"
      },
      "source": [
        "knn.fit(X_train,y_train)"
      ],
      "execution_count": null,
      "outputs": []
    },
    {
      "cell_type": "code",
      "metadata": {
        "id": "wnVTYp4b4upL"
      },
      "source": [
        "knn.score(X_test,y_test)"
      ],
      "execution_count": null,
      "outputs": []
    },
    {
      "cell_type": "code",
      "metadata": {
        "id": "_2paRsfk4vxI"
      },
      "source": [
        "prediction1=knn.predict([['100','6.3','8']])\n",
        "predct[prediction1[0]]"
      ],
      "execution_count": null,
      "outputs": []
    },
    {
      "cell_type": "code",
      "metadata": {
        "id": "qq72LwHO4xgk"
      },
      "source": [
        "prediction2=knn.predict([['300','7','10']])\n",
        "predct[prediction2[0]]"
      ],
      "execution_count": null,
      "outputs": []
    }
  ]
}