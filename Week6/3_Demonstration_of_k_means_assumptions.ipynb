{
  "nbformat": 4,
  "nbformat_minor": 0,
  "metadata": {
    "colab": {
      "name": "3 Demonstration of k means assumptions.ipynb",
      "provenance": [],
      "collapsed_sections": [],
      "authorship_tag": "ABX9TyMWOfu9OgRHI2WAJHwe3kuq"
    },
    "kernelspec": {
      "name": "python3",
      "display_name": "Python 3"
    },
    "language_info": {
      "name": "python"
    }
  },
  "cells": [
    {
      "cell_type": "code",
      "metadata": {
        "id": "c79NUJqx99n1"
      },
      "source": [
        "import numpy as np\n",
        "import matplotlib.pyplot as plt\n",
        "\n",
        "from sklearn.cluster import KMeans\n",
        "from sklearn.datasets import make_blobs\n",
        "\n",
        "plt.figure(figsize=(12, 12))\n",
        "\n",
        "n_samples = 1500\n",
        "random_state = 170\n",
        "X, y = make_blobs(n_samples=n_samples, random_state=random_state)\n",
        "\n",
        "# Incorrect number of clusters\n",
        "y_pred = KMeans(n_clusters=2, random_state=random_state).fit_predict(X)\n",
        "\n",
        "plt.subplot(221)\n",
        "plt.scatter(X[:, 0], X[:, 1], c=y_pred)\n",
        "plt.title(\"Incorrect Number of Blobs\")\n",
        "\n",
        "# Anisotropicly distributed data\n",
        "transformation = [[0.60834549, -0.63667341], [-0.40887718, 0.85253229]]\n",
        "X_aniso = np.dot(X, transformation)\n",
        "y_pred = KMeans(n_clusters=3, random_state=random_state).fit_predict(X_aniso)\n",
        "\n",
        "plt.subplot(222)\n",
        "plt.scatter(X_aniso[:, 0], X_aniso[:, 1], c=y_pred)\n",
        "plt.title(\"Anisotropicly Distributed Blobs\")\n",
        "\n",
        "# Different variance\n",
        "X_varied, y_varied = make_blobs(\n",
        "    n_samples=n_samples, cluster_std=[1.0, 2.5, 0.5], random_state=random_state\n",
        ")\n",
        "y_pred = KMeans(n_clusters=3, random_state=random_state).fit_predict(X_varied)\n",
        "\n",
        "plt.subplot(223)\n",
        "plt.scatter(X_varied[:, 0], X_varied[:, 1], c=y_pred)\n",
        "plt.title(\"Unequal Variance\")\n",
        "\n",
        "# Unevenly sized blobs\n",
        "X_filtered = np.vstack((X[y == 0][:500], X[y == 1][:100], X[y == 2][:10]))\n",
        "y_pred = KMeans(n_clusters=3, random_state=random_state).fit_predict(X_filtered)\n",
        "\n",
        "plt.subplot(224)\n",
        "plt.scatter(X_filtered[:, 0], X_filtered[:, 1], c=y_pred)\n",
        "plt.title(\"Unevenly Sized Blobs\")\n",
        "\n",
        "plt.show()"
      ],
      "execution_count": null,
      "outputs": []
    }
  ]
}