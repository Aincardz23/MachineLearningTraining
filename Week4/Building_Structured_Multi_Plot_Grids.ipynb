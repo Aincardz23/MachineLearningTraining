{
  "nbformat": 4,
  "nbformat_minor": 0,
  "metadata": {
    "colab": {
      "name": "Building Structured Multi Plot Grids.ipynb",
      "provenance": [],
      "collapsed_sections": [],
      "authorship_tag": "ABX9TyNiknhT7YaWRVhbODHXMDUx"
    },
    "kernelspec": {
      "name": "python3",
      "display_name": "Python 3"
    },
    "language_info": {
      "name": "python"
    }
  },
  "cells": [
    {
      "cell_type": "code",
      "metadata": {
        "id": "9x8cEKkS5TFE"
      },
      "source": [
        "from google.colab import drive\n",
        "drive.mount('/content/drive')"
      ],
      "execution_count": null,
      "outputs": []
    },
    {
      "cell_type": "code",
      "metadata": {
        "id": "w9P9AHDT5Ul9"
      },
      "source": [
        "import pandas as pd\n",
        "pd.plotting.register_matplotlib_converters()\n",
        "import matplotlib.pyplot as plt\n",
        "%matplotlib inline\n",
        "import seaborn as sns"
      ],
      "execution_count": null,
      "outputs": []
    },
    {
      "cell_type": "markdown",
      "metadata": {
        "id": "frGxHFly5UKI"
      },
      "source": [
        "**Conditional small multiples**\n",
        "\n",
        "---\n",
        "\n",
        "\n",
        "\n",
        "The FacetGrid class is useful when you want to visualize the distribution of a variable or the relationship between multiple variables separately within subsets of your dataset. A FacetGrid can be drawn with up to three dimensions: row, col, and hue. The first two have obvious correspondence with the resulting array of axes; think of the hue variable as a third dimension along a depth axis, where different levels are plotted with different colors.\n",
        "\n",
        "Each of relplot(), displot(), catplot(), and lmplot() use this object internally, and they return the object when they are finished so that it can be used for further tweaking.\n",
        "\n",
        "The class is used by initializing a FacetGrid object with a dataframe and the names of the variables that will form the row, column, or hue dimensions of the grid. These variables should be categorical or discrete, and then the data at each level of the variable will be used for a facet along that axis. For example, say we wanted to examine differences between lunch and dinner in the tips dataset:\n"
      ]
    },
    {
      "cell_type": "code",
      "metadata": {
        "id": "m6mc_l-e5cj1"
      },
      "source": [
        "tips = sns.load_dataset(\"tips\")\n",
        "g = sns.FacetGrid(tips, col=\"time\")"
      ],
      "execution_count": null,
      "outputs": []
    },
    {
      "cell_type": "code",
      "metadata": {
        "id": "J_RVPNtx5eDG"
      },
      "source": [
        "g = sns.FacetGrid(tips, col=\"time\")\n",
        "g.map(sns.histplot, \"tip\")"
      ],
      "execution_count": null,
      "outputs": []
    },
    {
      "cell_type": "code",
      "metadata": {
        "id": "pVSPbFen5f85"
      },
      "source": [
        "g = sns.FacetGrid(tips, col=\"sex\", hue=\"smoker\")\n",
        "g.map(sns.scatterplot, \"total_bill\", \"tip\", alpha=.7)\n",
        "g.add_legend()"
      ],
      "execution_count": null,
      "outputs": []
    },
    {
      "cell_type": "code",
      "metadata": {
        "id": "jHhV-Vxm5hio"
      },
      "source": [
        "g = sns.FacetGrid(tips, row=\"smoker\", col=\"time\", margin_titles=True)\n",
        "g.map(sns.regplot, \"size\", \"total_bill\", color=\".3\", fit_reg=False, x_jitter=.1)"
      ],
      "execution_count": null,
      "outputs": []
    },
    {
      "cell_type": "code",
      "metadata": {
        "id": "LKLtdKqO5jTt"
      },
      "source": [
        "g = sns.FacetGrid(tips, col=\"day\", height=4, aspect=.5)\n",
        "g.map(sns.barplot, \"sex\", \"total_bill\", order=[\"Male\", \"Female\"])"
      ],
      "execution_count": null,
      "outputs": []
    },
    {
      "cell_type": "code",
      "metadata": {
        "id": "jCN9HD2d5k_c"
      },
      "source": [
        "ordered_days = tips.day.value_counts().index\n",
        "g = sns.FacetGrid(tips, row=\"day\", row_order=ordered_days,\n",
        "                  height=1.7, aspect=4,)\n",
        "g.map(sns.kdeplot, \"total_bill\")"
      ],
      "execution_count": null,
      "outputs": []
    },
    {
      "cell_type": "code",
      "metadata": {
        "id": "RorwD6u95m3-"
      },
      "source": [
        "pal = dict(Lunch=\"seagreen\", Dinner=\".7\")\n",
        "g = sns.FacetGrid(tips, hue=\"time\", palette=pal, height=5)\n",
        "g.map(sns.scatterplot, \"total_bill\", \"tip\", s=100, alpha=.5)\n",
        "g.add_legend()"
      ],
      "execution_count": null,
      "outputs": []
    },
    {
      "cell_type": "code",
      "metadata": {
        "id": "SwFQm2QR5obd"
      },
      "source": [
        "attend = sns.load_dataset(\"attention\").query(\"subject <= 12\")\n",
        "g = sns.FacetGrid(attend, col=\"subject\", col_wrap=4, height=2, ylim=(0, 10))\n",
        "g.map(sns.pointplot, \"solutions\", \"score\", order=[1, 2, 3], color=\".3\", ci=None)"
      ],
      "execution_count": null,
      "outputs": []
    }
  ]
}