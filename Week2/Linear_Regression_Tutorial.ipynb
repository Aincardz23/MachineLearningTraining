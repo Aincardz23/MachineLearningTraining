{
  "nbformat": 4,
  "nbformat_minor": 0,
  "metadata": {
    "colab": {
      "name": "Linear Regression Tutorial.ipynb",
      "provenance": [],
      "collapsed_sections": [],
      "authorship_tag": "ABX9TyMT+8DIJyM4mR+S9kJ6HKGF"
    },
    "kernelspec": {
      "name": "python3",
      "display_name": "Python 3"
    },
    "language_info": {
      "name": "python"
    }
  },
  "cells": [
    {
      "cell_type": "markdown",
      "metadata": {
        "id": "8jNYPmJv2OKi"
      },
      "source": [
        "**Linear Regression Tutorial**"
      ]
    },
    {
      "cell_type": "code",
      "metadata": {
        "id": "g6MH2ndk1Rhx"
      },
      "source": [
        "from google.colab import drive\n",
        "drive.mount('/content/drive')"
      ],
      "execution_count": null,
      "outputs": []
    },
    {
      "cell_type": "markdown",
      "metadata": {
        "id": "0MAibGHH2bul"
      },
      "source": [
        "**Import Library**"
      ]
    },
    {
      "cell_type": "code",
      "metadata": {
        "id": "wPwcJLif2g_b"
      },
      "source": [
        "import pandas  as pd \n",
        "import numpy as np \n",
        "import matplotlib.pyplot as plt \n",
        "import seaborn as sns"
      ],
      "execution_count": null,
      "outputs": []
    },
    {
      "cell_type": "markdown",
      "metadata": {
        "id": "OcLcL6l-2hyI"
      },
      "source": [
        "**Import Dataset**"
      ]
    },
    {
      "cell_type": "code",
      "metadata": {
        "id": "mm_BZRe72vxZ"
      },
      "source": [
        "data = pd.read_csv('/content/drive/MyDrive/Colab/Week 2 Linear Regression Tutorial/insurance.csv')\n",
        "print('\\nNumber of rows and columns in the data set: ',data.shape)\n",
        "print('')\n",
        "data.head()"
      ],
      "execution_count": null,
      "outputs": []
    },
    {
      "cell_type": "markdown",
      "metadata": {
        "id": "p1tn-Gb62tce"
      },
      "source": [
        "**Visualization purpose will fit line using seaborn library only for BMI variable**"
      ]
    },
    {
      "cell_type": "code",
      "metadata": {
        "id": "d3bhEl_U2368"
      },
      "source": [
        "sns.lmplot(x='bmi',y='charges',data=data,aspect=2,height=6)\n",
        "plt.xlabel('Boby Mass Index (kg/m^2) : as Independent variable')\n",
        "plt.ylabel('Insurance Charges: as Dependent variable')\n",
        "plt.title('Charge Vs BMI');"
      ],
      "execution_count": null,
      "outputs": []
    },
    {
      "cell_type": "markdown",
      "metadata": {
        "id": "BqfhD1SY26aB"
      },
      "source": [
        "**Exploratory Data Analysis**"
      ]
    },
    {
      "cell_type": "code",
      "metadata": {
        "id": "MhmB0tmt2542"
      },
      "source": [
        "data.describe()"
      ],
      "execution_count": null,
      "outputs": []
    },
    {
      "cell_type": "markdown",
      "metadata": {
        "id": "FAWxrLGD2_pg"
      },
      "source": [
        "**Checking Missing Value**"
      ]
    },
    {
      "cell_type": "code",
      "metadata": {
        "id": "ZkZAc9Q73BDb"
      },
      "source": [
        "plt.figure(figsize=(12,4))\n",
        "sns.heatmap(data.isnull(),cbar=False,cmap='viridis',yticklabels=False)\n",
        "plt.title('Missing value in the dataset');"
      ],
      "execution_count": null,
      "outputs": []
    },
    {
      "cell_type": "markdown",
      "metadata": {
        "id": "RE6XUdEb3D-V"
      },
      "source": [
        "**Plots**"
      ]
    },
    {
      "cell_type": "code",
      "metadata": {
        "id": "U70-cMBk3HGj"
      },
      "source": [
        "# correlation plot\n",
        "corr = data.corr()\n",
        "sns.heatmap(corr, cmap = 'Wistia', annot= True);"
      ],
      "execution_count": null,
      "outputs": []
    },
    {
      "cell_type": "code",
      "metadata": {
        "id": "CPqj8fdh3LXm"
      },
      "source": [
        "f= plt.figure(figsize=(12,4))\n",
        "\n",
        "ax=f.add_subplot(121)\n",
        "sns.distplot(data['charges'],bins=50,color='r',ax=ax)\n",
        "ax.set_title('Distribution of insurance charges')\n",
        "\n",
        "ax=f.add_subplot(122)\n",
        "sns.distplot(np.log10(data['charges']),bins=40,color='b',ax=ax)\n",
        "ax.set_title('Distribution of insurance charges in $log$ sacle')\n",
        "ax.set_xscale('log');"
      ],
      "execution_count": null,
      "outputs": []
    },
    {
      "cell_type": "code",
      "metadata": {
        "id": "Lt2AaTor3Muy"
      },
      "source": [
        "f = plt.figure(figsize=(14,6))\n",
        "ax = f.add_subplot(121)\n",
        "sns.violinplot(x='sex', y='charges',data=data,palette='Wistia',ax=ax)\n",
        "ax.set_title('Violin plot of Charges vs sex')\n",
        "\n",
        "ax = f.add_subplot(122)\n",
        "sns.violinplot(x='smoker', y='charges',data=data,palette='magma',ax=ax)\n",
        "ax.set_title('Violin plot of Charges vs smoker');"
      ],
      "execution_count": null,
      "outputs": []
    },
    {
      "cell_type": "code",
      "metadata": {
        "id": "JZBD82RR3O9N"
      },
      "source": [
        "plt.figure(figsize=(14,6))\n",
        "sns.boxplot(x='children', y='charges',hue='sex',data=data,palette='rainbow')\n",
        "plt.title('Box plot of charges vs children');"
      ],
      "execution_count": null,
      "outputs": []
    },
    {
      "cell_type": "code",
      "metadata": {
        "id": "isgGDW9z3QTC"
      },
      "source": [
        "data.groupby('children').agg(['mean','min','max'])['charges']"
      ],
      "execution_count": null,
      "outputs": []
    },
    {
      "cell_type": "code",
      "metadata": {
        "id": "LLNE77fa3RjX"
      },
      "source": [
        "plt.figure(figsize=(14,6))\n",
        "sns.violinplot(x='region', y='charges',hue='sex',data=data,palette='rainbow',split=True)\n",
        "plt.title('Violin plot of charges vs children');"
      ],
      "execution_count": null,
      "outputs": []
    },
    {
      "cell_type": "code",
      "metadata": {
        "id": "hAiLlCnr3TDo"
      },
      "source": [
        "f = plt.figure(figsize=(14,6))\n",
        "ax = f.add_subplot(121)\n",
        "sns.scatterplot(x='age',y='charges',data=data,palette='magma',hue='smoker',ax=ax)\n",
        "ax.set_title('Scatter plot of Charges vs age')\n",
        "\n",
        "ax = f.add_subplot(122)\n",
        "sns.scatterplot(x='bmi',y='charges',data=data,palette='viridis',hue='smoker')\n",
        "ax.set_title('Scatter plot of Charges vs bmi')\n",
        "plt.savefig('sc.png');"
      ],
      "execution_count": null,
      "outputs": []
    },
    {
      "cell_type": "markdown",
      "metadata": {
        "id": "tVbK8DfT3Ubo"
      },
      "source": [
        "From left plot the minimum age person is insured is 18 year. There is slabs in policy most of non smoker take 1st and 2nd slab, for smoker policy start at 2nd and 3rd slab.\n",
        "\n",
        "Body mass index (BMI) is a measure of body fat based on height and weight that applies to adult men and women. The minimum bmi is 16 kg/m2 and maximum upto 54 kg/m2"
      ]
    }
  ]
}